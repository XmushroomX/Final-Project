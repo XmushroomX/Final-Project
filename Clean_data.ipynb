{
 "cells": [
  {
   "cell_type": "code",
   "execution_count": 11,
   "metadata": {},
   "outputs": [],
   "source": [
    "import pandas as pd\n",
    "import matplotlib.pyplot as plt\n",
    "import seaborn as sns\n",
    "import numpy as np"
   ]
  },
  {
   "cell_type": "code",
   "execution_count": 12,
   "metadata": {},
   "outputs": [],
   "source": [
    "post_df_full = pd.read_excel(\"Data/warriors.xlsx\")"
   ]
  },
  {
   "cell_type": "code",
   "execution_count": 13,
   "metadata": {},
   "outputs": [],
   "source": [
    "post_df_full_clean = pd.read_excel(\"Data/warriors.xlsx\")"
   ]
  },
  {
   "cell_type": "markdown",
   "metadata": {},
   "source": [
    "## Clean data"
   ]
  },
  {
   "cell_type": "markdown",
   "metadata": {},
   "source": [
    "Kiểm tra xem có tồn tại dữ liệu thiếu hay không"
   ]
  },
  {
   "cell_type": "code",
   "execution_count": 14,
   "metadata": {},
   "outputs": [
    {
     "data": {
      "text/plain": [
       "post_id                            0\n",
       "text                               0\n",
       "post_text                          0\n",
       "shared_text                      119\n",
       "original_text                     45\n",
       "time                               0\n",
       "timestamp                         10\n",
       "image                             73\n",
       "image_lowquality                   0\n",
       "images                             0\n",
       "images_description                 0\n",
       "images_lowquality                  0\n",
       "images_lowquality_description      0\n",
       "video                             50\n",
       "video_duration_seconds           120\n",
       "video_height                     120\n",
       "video_id                          50\n",
       "video_quality                    120\n",
       "video_size_MB                    120\n",
       "video_thumbnail                   50\n",
       "video_watches                    120\n",
       "video_width                      120\n",
       "likes                            120\n",
       "comments                           0\n",
       "shares                             0\n",
       "post_url                           0\n",
       "link                             111\n",
       "links                              2\n",
       "user_id                            0\n",
       "username                           0\n",
       "user_url                           0\n",
       "is_live                            0\n",
       "factcheck                        120\n",
       "shared_post_id                   119\n",
       "shared_time                      119\n",
       "shared_user_id                   119\n",
       "shared_username                  119\n",
       "shared_post_url                  119\n",
       "available                          0\n",
       "comments_full                      0\n",
       "reactors                           0\n",
       "w3_fb_url                          0\n",
       "reactions                          0\n",
       "reaction_count                     0\n",
       "with                             117\n",
       "page_id                            0\n",
       "sharers                          120\n",
       "image_id                          78\n",
       "image_ids                          0\n",
       "was_live                           0\n",
       "fetched_time                       0\n",
       "dtype: int64"
      ]
     },
     "execution_count": 14,
     "metadata": {},
     "output_type": "execute_result"
    }
   ],
   "source": [
    "missing_values = post_df_full.isnull()\n",
    "missing_counts = missing_values.sum()\n",
    "missing_counts"
   ]
  },
  {
   "cell_type": "markdown",
   "metadata": {},
   "source": [
    "Loại bỏ những cột bị rỗng và không cần thiết"
   ]
  },
  {
   "cell_type": "code",
   "execution_count": 15,
   "metadata": {},
   "outputs": [],
   "source": [
    "post_df_full_clean = post_df_full.dropna(axis=1, how='all')\n",
    "\n",
    "post_df_full_clean = post_df_full.drop([\"timestamp\",\"shared_text\",\"original_text\",\"factcheck\",\"shared_post_id\",\"shared_time\",\"shared_user_id\",\"shared_username\",\"shared_post_url\"], axis=1)"
   ]
  },
  {
   "cell_type": "markdown",
   "metadata": {},
   "source": [
    "Thay dữ liệu còn thiếu thành \"unknown\""
   ]
  },
  {
   "cell_type": "code",
   "execution_count": 16,
   "metadata": {},
   "outputs": [],
   "source": [
    "post_df_full_clean = post_df_full_clean.fillna('unknown')"
   ]
  },
  {
   "cell_type": "markdown",
   "metadata": {},
   "source": [
    "Chuyển dữ liệu thời gian upload sang datetime64"
   ]
  },
  {
   "cell_type": "code",
   "execution_count": 17,
   "metadata": {},
   "outputs": [],
   "source": [
    "post_df_full_clean['time'] = pd.to_datetime(post_df_full_clean['time'])"
   ]
  },
  {
   "cell_type": "markdown",
   "metadata": {},
   "source": [
    "Kiểm tra dữ liệu trùng lặp"
   ]
  },
  {
   "cell_type": "code",
   "execution_count": 18,
   "metadata": {},
   "outputs": [
    {
     "data": {
      "text/plain": [
       "False    120\n",
       "Name: count, dtype: int64"
      ]
     },
     "execution_count": 18,
     "metadata": {},
     "output_type": "execute_result"
    }
   ],
   "source": [
    "post_df_full_clean.duplicated().value_counts()"
   ]
  },
  {
   "cell_type": "code",
   "execution_count": 19,
   "metadata": {},
   "outputs": [],
   "source": [
    "post_df_full_clean.to_excel(\"Data/warriors_clean.xlsx\")"
   ]
  }
 ],
 "metadata": {
  "kernelspec": {
   "display_name": "Python 3",
   "language": "python",
   "name": "python3"
  },
  "language_info": {
   "codemirror_mode": {
    "name": "ipython",
    "version": 3
   },
   "file_extension": ".py",
   "mimetype": "text/x-python",
   "name": "python",
   "nbconvert_exporter": "python",
   "pygments_lexer": "ipython3",
   "version": "3.11.5"
  }
 },
 "nbformat": 4,
 "nbformat_minor": 2
}
