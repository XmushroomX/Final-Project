{
 "cells": [
  {
   "cell_type": "code",
   "execution_count": 1,
   "metadata": {},
   "outputs": [],
   "source": [
    "import pandas as pd\n",
    "import matplotlib.pyplot as plt\n",
    "import seaborn as sns\n",
    "import numpy as np"
   ]
  },
  {
   "cell_type": "code",
   "execution_count": 2,
   "metadata": {},
   "outputs": [],
   "source": [
    "post_df_full = pd.read_excel(\"Data/warriors.xlsx\")"
   ]
  },
  {
   "cell_type": "markdown",
   "metadata": {},
   "source": [
    "## Clean data"
   ]
  },
  {
   "cell_type": "markdown",
   "metadata": {},
   "source": [
    "Kiểm tra xem có tồn tại dữ liệu bị thiếu hay không"
   ]
  },
  {
   "cell_type": "code",
   "execution_count": 4,
   "metadata": {},
   "outputs": [
    {
     "data": {
      "text/plain": [
       "post_id                            0\n",
       "text                               0\n",
       "post_text                          0\n",
       "shared_text                      119\n",
       "original_text                     45\n",
       "time                               0\n",
       "timestamp                         10\n",
       "image                             73\n",
       "image_lowquality                   0\n",
       "images                             0\n",
       "images_description                 0\n",
       "images_lowquality                  0\n",
       "images_lowquality_description      0\n",
       "video                             50\n",
       "video_duration_seconds           120\n",
       "video_height                     120\n",
       "video_id                          50\n",
       "video_quality                    120\n",
       "video_size_MB                    120\n",
       "video_thumbnail                   50\n",
       "video_watches                    120\n",
       "video_width                      120\n",
       "likes                            120\n",
       "comments                           0\n",
       "shares                             0\n",
       "post_url                           0\n",
       "link                             111\n",
       "links                              2\n",
       "user_id                            0\n",
       "username                           0\n",
       "user_url                           0\n",
       "is_live                            0\n",
       "factcheck                        120\n",
       "shared_post_id                   119\n",
       "shared_time                      119\n",
       "shared_user_id                   119\n",
       "shared_username                  119\n",
       "shared_post_url                  119\n",
       "available                          0\n",
       "comments_full                      0\n",
       "reactors                           0\n",
       "w3_fb_url                          0\n",
       "reactions                          0\n",
       "reaction_count                     0\n",
       "with                             117\n",
       "page_id                            0\n",
       "sharers                          120\n",
       "image_id                          78\n",
       "image_ids                          0\n",
       "was_live                           0\n",
       "fetched_time                       0\n",
       "dtype: int64"
      ]
     },
     "execution_count": 4,
     "metadata": {},
     "output_type": "execute_result"
    }
   ],
   "source": [
    "missing_values = post_df_full.isnull()\n",
    "missing_counts = missing_values.sum()\n",
    "missing_counts"
   ]
  },
  {
   "cell_type": "markdown",
   "metadata": {},
   "source": [
    "Thay những dữ liệu còn thiếu thành 'unknown'"
   ]
  },
  {
   "cell_type": "code",
   "execution_count": 8,
   "metadata": {},
   "outputs": [],
   "source": [
    "post_df_full = post_df_full.fillna('unknown')"
   ]
  },
  {
   "cell_type": "markdown",
   "metadata": {},
   "source": [
    "Kiểm tra dữ liệu trùng lặp"
   ]
  },
  {
   "cell_type": "code",
   "execution_count": 6,
   "metadata": {},
   "outputs": [
    {
     "data": {
      "text/plain": [
       "False    120\n",
       "dtype: int64"
      ]
     },
     "execution_count": 6,
     "metadata": {},
     "output_type": "execute_result"
    }
   ],
   "source": [
    "post_df_full.duplicated().value_counts()"
   ]
  }
 ],
 "metadata": {
  "kernelspec": {
   "display_name": "base",
   "language": "python",
   "name": "python3"
  },
  "language_info": {
   "codemirror_mode": {
    "name": "ipython",
    "version": 3
   },
   "file_extension": ".py",
   "mimetype": "text/x-python",
   "name": "python",
   "nbconvert_exporter": "python",
   "pygments_lexer": "ipython3",
   "version": "3.11.4"
  }
 },
 "nbformat": 4,
 "nbformat_minor": 2
}
